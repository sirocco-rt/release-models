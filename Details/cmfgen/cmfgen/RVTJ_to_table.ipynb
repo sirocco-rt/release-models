{
 "cells": [
  {
   "cell_type": "markdown",
   "metadata": {},
   "source": [
    "# Convert parts of the RVTJ file to and astropy table so it can be compared with a Python model\n",
    "\n",
    "The RVTJ table contains the positions of the grid celss and other useful information"
   ]
  },
  {
   "cell_type": "code",
   "execution_count": 9,
   "metadata": {},
   "outputs": [
    {
     "data": {
      "text/plain": [
       "'/media/ssd4/Projects/release-models/Details/cmfgen/cmfgen'"
      ]
     },
     "execution_count": 9,
     "metadata": {},
     "output_type": "execute_result"
    }
   ],
   "source": [
    "import os\n",
    "os.getcwd()"
   ]
  },
  {
   "cell_type": "code",
   "execution_count": 10,
   "metadata": {},
   "outputs": [],
   "source": [
    "from astropy.table import Table\n",
    "from astropy.io import ascii\n",
    "import matplotlib.pyplot as plt\n",
    "import numpy as np"
   ]
  },
  {
   "cell_type": "code",
   "execution_count": 11,
   "metadata": {},
   "outputs": [],
   "source": [
    "def RVTG_to_table(filename='a3/RVTJ',outroot=''):\n",
    "    try:\n",
    "        x=open(filename)\n",
    "    except:\n",
    "        print('Could not find ',filename)\n",
    "        return\n",
    "    \n",
    "    lines=x.readlines()\n",
    "    r=[]\n",
    "    vel=[]\n",
    "    temp=[]\n",
    "    ne=[]\n",
    "    nh=[]\n",
    "    i=0\n",
    "    type='None'\n",
    "    while i<len(lines):\n",
    "        if lines[i].count('Radius'):\n",
    "            type='R'\n",
    "            i+=1\n",
    "        elif lines[i].count('Velocity'):\n",
    "            type='V'\n",
    "            i+=1\n",
    "        elif lines[i].count('dlnV/dlnr-1'):\n",
    "            type='None'\n",
    "        elif lines[i].count('Electron density'):\n",
    "            type='ne'\n",
    "            i+=1\n",
    "        elif lines[i].count('Temperature'):\n",
    "            type='T'\n",
    "            i+=1\n",
    "        elif lines[i].count('Rosseland Mean Opacity'):\n",
    "            type='None'\n",
    "            i+=1\n",
    "        elif lines[i].count('Hydrogen Density'):\n",
    "            type='H'\n",
    "            i+=1\n",
    "        elif lines[i].count('Helium Density'):\n",
    "            type='None'\n",
    "            i+=1\n",
    "       \n",
    "        \n",
    "        if type=='R':\n",
    "            words=lines[i].split()\n",
    "            for one in words:\n",
    "                r.append(eval(one))\n",
    "        if type=='V':\n",
    "            words=lines[i].split()\n",
    "            for one in words:\n",
    "                vel.append(eval(one))\n",
    "        if type=='T':\n",
    "            words=lines[i].split()\n",
    "            for one in words:\n",
    "                temp.append(eval(one))\n",
    "        if type=='ne':\n",
    "            words=lines[i].split()\n",
    "            for one in words:\n",
    "                ne.append(eval(one))\n",
    "        if type=='H':\n",
    "            words=lines[i].split()\n",
    "            for one in words:\n",
    "                nh.append(eval(one))\n",
    "        i+=1\n",
    "        \n",
    "    \n",
    "    \n",
    "    r=np.array(r)\n",
    "    r*=1e10\n",
    "    \n",
    "    vel=np.array(vel)\n",
    "    vel*=1e5\n",
    "    \n",
    "    temp=np.array(temp)\n",
    "    temp*=1e4\n",
    "    \n",
    "    nh=np.array(nh)\n",
    "    ne=np.array(ne)\n",
    "    n=np.arange(len(r))\n",
    "    \n",
    "    z=Table([n,r,vel,temp,ne,nh],names=['n','r','v','T','ne','nh'])\n",
    "    z.sort('r')\n",
    "    \n",
    "    z['r'].format='10.3e'\n",
    "    z['v'].format='10.3e'\n",
    "    z['T'].format='10.3e'\n",
    "    z['ne'].format='10.3e'\n",
    "    z['nh'].format='10.3e'\n",
    "\n",
    "    if outroot=='':\n",
    "        outroot='test'\n",
    "    outname='%s.rvtj.txt' % outroot\n",
    "\n",
    "    z.write(outname, format='ascii.fixed_width_two_line',overwrite=True)\n",
    "    \n",
    "    return outname\n",
    "        \n",
    "\n",
    "xname=RVTG_to_table(filename='a3/RVTJ',outroot='a3')\n",
    "# xname=RVTG_to_table(filename='a2/RVTJ',outroot='a2')"
   ]
  },
  {
   "cell_type": "code",
   "execution_count": 12,
   "metadata": {},
   "outputs": [],
   "source": [
    "z=ascii.read(xname)"
   ]
  },
  {
   "cell_type": "code",
   "execution_count": 13,
   "metadata": {
    "scrolled": true
   },
   "outputs": [
    {
     "name": "stdout",
     "output_type": "stream",
     "text": [
      "<Table length=52>\n",
      "name  dtype \n",
      "---- -------\n",
      "   n   int64\n",
      "   r float64\n",
      "   v float64\n",
      "   T float64\n",
      "  ne float64\n",
      "  nh float64\n"
     ]
    }
   ],
   "source": [
    "z.info()"
   ]
  },
  {
   "cell_type": "code",
   "execution_count": 14,
   "metadata": {},
   "outputs": [
    {
     "data": {
      "text/plain": [
       "[<matplotlib.lines.Line2D at 0x7747cef4f8f0>]"
      ]
     },
     "execution_count": 14,
     "metadata": {},
     "output_type": "execute_result"
    },
    {
     "data": {
      "image/png": "[encoded data removed]",
      "text/plain": [
       "<Figure size 600x600 with 1 Axes>"
      ]
     },
     "metadata": {},
     "output_type": "display_data"
    }
   ],
   "source": [
    "plt.plot(z['r'],z['v'])"
   ]
  },
  {
   "cell_type": "code",
   "execution_count": null,
   "metadata": {},
   "outputs": [],
   "source": []
  }
 ],
 "metadata": {
  "kernelspec": {
   "display_name": "Python [conda env:base] *",
   "language": "python",
   "name": "conda-base-py"
  },
  "language_info": {
   "codemirror_mode": {
    "name": "ipython",
    "version": 3
   },
   "file_extension": ".py",
   "mimetype": "text/x-python",
   "name": "python",
   "nbconvert_exporter": "python",
   "pygments_lexer": "ipython3",
   "version": "3.12.2"
  }
 },
 "nbformat": 4,
 "nbformat_minor": 4
}
