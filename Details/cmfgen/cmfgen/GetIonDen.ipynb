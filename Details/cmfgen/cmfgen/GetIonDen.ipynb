{
 "cells": [
  {
   "cell_type": "markdown",
   "id": "afd51b25-6478-4d86-8d2a-7cec427cb3a8",
   "metadata": {},
   "source": [
    "# Create a table that contains the ion densities calculated by CMFGen \n",
    "from the POP files.  The routine assumes the POP files are all in a\n",
    "specific directory\n",
    "\n",
    "The POP files format is not very well explained in the documentation, and parsing it is not straight forward because the bit os information are not documeented in the documentation.  \n",
    "\n",
    "In particular, there are a set of lines that come after a line that contains the word Oscilator.  These contain the densities of the level populations of a particular ion as a function of grid cell.  The last n numbers, where n is the number of cells, contains the total densities for that ion.  The organization of the population of the individual levels is not specified in the documention, and is something ksl has not fully worked out.  It seems not to be that one can simply take the first n elements and assume that this is the ion density of the first level.\n",
    "\n",
    "The densities that are obtained by this routine go from the outside of the wind to the photosphere."
   ]
  },
  {
   "cell_type": "code",
   "execution_count": 1,
   "id": "66382af1-038a-4e90-921b-69bb882ff477",
   "metadata": {},
   "outputs": [
    {
     "data": {
      "text/plain": [
       "'/Users/long/Projects/Python/release_cmfgen/cmfgen'"
      ]
     },
     "execution_count": 1,
     "metadata": {},
     "output_type": "execute_result"
    }
   ],
   "source": [
    "from glob import glob\n",
    "from astropy.table import Table,vstack,join\n",
    "import matplotlib.pyplot as plt\n",
    "import numpy as np\n",
    "import os\n",
    "os.getcwd()"
   ]
  },
  {
   "cell_type": "code",
   "execution_count": 2,
   "id": "0daf5d02-3c2b-44fd-a443-5110cdf7786d",
   "metadata": {},
   "outputs": [],
   "source": [
    "def get_den_for_one_atom(filename='a3/POPHYD',outroot=''):\n",
    "    z=open(filename)\n",
    "    lines=z.readlines()\n",
    "    xabun=False\n",
    "    xpop=False\n",
    "    xnum=False\n",
    "    record_abun=[]\n",
    "    record_pop=[]\n",
    "    pop_stack=[]\n",
    "    nd=0\n",
    "    nden=[]\n",
    "    nlev=[]\n",
    "    xlabel=[]\n",
    "    i=0\n",
    "    for line in lines:\n",
    "        word=line.split()\n",
    "        try:\n",
    "            xline=[]\n",
    "            for one_word in word:\n",
    "                xline.append(eval(one_word))\n",
    "            xnum=True\n",
    "        except:\n",
    "            xnum=False\n",
    "        if xnum==True and xabun==True:\n",
    "            record_abun+=xline\n",
    "        elif xnum==True and xpop==True:\n",
    "            record_pop+=xline\n",
    "        \n",
    "        \n",
    "        if word[0]=='ND:':\n",
    "            nd=int(word[1])\n",
    "        if word[1]=='abundance:':\n",
    "            atom=word[0].split('/')[0]\n",
    "            print(atom)\n",
    "            xabun=True\n",
    "            xpop=False\n",
    "            record_abun=[]\n",
    "        elif word[0]=='Number':\n",
    "            nlev.append(int(word[4]))\n",
    "            xlabel.append(word[2])\n",
    "        elif word[1]=='Oscillator':\n",
    "            nden.append(i+1)\n",
    "            xpop=True\n",
    "            xabun=False\n",
    "            if len(record_pop)>0:\n",
    "                record_pop=np.array(record_pop)\n",
    "                pop_stack.append(record_pop)\n",
    "            record_pop=[]\n",
    " \n",
    "            \n",
    "        \n",
    "        i+=1\n",
    "\n",
    "    if len(record_pop)>0:\n",
    "        record_pop=np.array(record_pop)\n",
    "        pop_stack.append(record_pop)\n",
    "    print('ND ', nd)\n",
    "    print('nden: ',nden)\n",
    "    print('nlev: ',nlev)\n",
    "    print(len(record_abun),len(record_pop),len(pop_stack))\n",
    "\n",
    "    qnum=range(len(record_abun))\n",
    "    abun_tab=Table([qnum,record_abun],names=['n',atom])\n",
    "\n",
    "    i=0\n",
    "    for one in pop_stack:\n",
    "        xden=one[-nd:]\n",
    "        xtab=Table([qnum,xden],names=['n',xlabel[i]])\n",
    "        if i==0:\n",
    "            xfinal=join(abun_tab,xtab,join_type='left')\n",
    "        else:\n",
    "            xfinal=join(xfinal,xtab,join_type='left')\n",
    "        # xfinal.append(one[-nd:])\n",
    "        i+=1\n",
    "        \n",
    "\n",
    "    if outroot=='':\n",
    "        outroot='test'\n",
    "\n",
    "    outname='%s.%s.txt' % (outroot,atom)\n",
    "\n",
    "    xfinal.write(outname,format='ascii.fixed_width_two_line',overwrite=True)\n",
    "    \n",
    "    return xfinal"
   ]
  },
  {
   "cell_type": "code",
   "execution_count": 8,
   "id": "ece7c2aa-c6b6-42f6-9be1-882a9565e279",
   "metadata": {},
   "outputs": [
    {
     "name": "stdout",
     "output_type": "stream",
     "text": [
      "HE\n",
      "ND  52\n",
      "nden:  [13, 315]\n",
      "nlev:  [45, 30]\n",
      "52 1612 2\n",
      "CARB\n",
      "ND  52\n",
      "nden:  [13, 113, 473]\n",
      "nlev:  [14, 54, 18]\n",
      "52 988 3\n"
     ]
    }
   ],
   "source": [
    "xfinal=get_den_for_one_atom(filename='a3/POPHE',outroot='a3')\n",
    "xfinal=get_den_for_one_atom(filename='a3/POPCARB',outroot='a3')\n"
   ]
  },
  {
   "cell_type": "code",
   "execution_count": null,
   "id": "a042f768-a063-4efe-9378-e51e26e4e4db",
   "metadata": {},
   "outputs": [],
   "source": []
  }
 ],
 "metadata": {
  "kernelspec": {
   "display_name": "Python [conda env:ksl]",
   "language": "python",
   "name": "conda-env-ksl-py"
  },
  "language_info": {
   "codemirror_mode": {
    "name": "ipython",
    "version": 3
   },
   "file_extension": ".py",
   "mimetype": "text/x-python",
   "name": "python",
   "nbconvert_exporter": "python",
   "pygments_lexer": "ipython3",
   "version": "3.11.5"
  }
 },
 "nbformat": 4,
 "nbformat_minor": 5
}
