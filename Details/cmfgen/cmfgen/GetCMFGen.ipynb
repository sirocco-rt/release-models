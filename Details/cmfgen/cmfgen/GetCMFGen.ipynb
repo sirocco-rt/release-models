{
 "cells": [
  {
   "cell_type": "markdown",
   "id": "59e45249-82a0-4792-b440-db6a81d1af8f",
   "metadata": {},
   "source": [
    "# Get the needed portions of a CMFGen model \n",
    "\n",
    "This routine retrieves the files in a CMFGen model that are useful for comparisons to\n",
    "Python models.  These include some information that is used as inputs for\n",
    "a Python model, and various files that contain information about physical\n",
    "condictions as well as the final spectrum\n",
    "\n"
   ]
  },
  {
   "cell_type": "code",
   "execution_count": 2,
   "id": "3e221a74-f023-4bd2-8f86-b6848ac29ed7",
   "metadata": {},
   "outputs": [
    {
     "data": {
      "text/plain": [
       "'/Users/long/Projects/Python/release_cmfgen/cmfgen'"
      ]
     },
     "execution_count": 2,
     "metadata": {},
     "output_type": "execute_result"
    }
   ],
   "source": [
    "import os\n",
    "os.getcwd()"
   ]
  },
  {
   "cell_type": "code",
   "execution_count": 3,
   "id": "f149875d-3b11-45c8-9940-3ce00a5f0490",
   "metadata": {},
   "outputs": [],
   "source": [
    "from glob import glob\n",
    "import shutil\n"
   ]
  },
  {
   "cell_type": "code",
   "execution_count": 6,
   "id": "5a4a0d97-ab06-4608-9845-3caff044aa64",
   "metadata": {},
   "outputs": [
    {
     "name": "stdout",
     "output_type": "stream",
     "text": [
      "a3\n",
      "['/Users/long/scisoft/CMFGEN/models/ostar/a3/POPCAL', '/Users/long/scisoft/CMFGEN/models/ostar/a3/POPSUL', '/Users/long/scisoft/CMFGEN/models/ostar/a3/POPPOT', '/Users/long/scisoft/CMFGEN/models/ostar/a3/POPCHL', '/Users/long/scisoft/CMFGEN/models/ostar/a3/POPCHRO', '/Users/long/scisoft/CMFGEN/models/ostar/a3/POPALUM', '/Users/long/scisoft/CMFGEN/models/ostar/a3/POPNIT', '/Users/long/scisoft/CMFGEN/models/ostar/a3/POPSIL', '/Users/long/scisoft/CMFGEN/models/ostar/a3/POPNEON', '/Users/long/scisoft/CMFGEN/models/ostar/a3/POPIRON', '/Users/long/scisoft/CMFGEN/models/ostar/a3/POPOXY', '/Users/long/scisoft/CMFGEN/models/ostar/a3/POPMAG', '/Users/long/scisoft/CMFGEN/models/ostar/a3/POPMAN', '/Users/long/scisoft/CMFGEN/models/ostar/a3/POPHE', '/Users/long/scisoft/CMFGEN/models/ostar/a3/POPSOD', '/Users/long/scisoft/CMFGEN/models/ostar/a3/POPNICK', '/Users/long/scisoft/CMFGEN/models/ostar/a3/POPCARB', '/Users/long/scisoft/CMFGEN/models/ostar/a3/POPPHOS', '/Users/long/scisoft/CMFGEN/models/ostar/a3/POPARG', '/Users/long/scisoft/CMFGEN/models/ostar/a3/POPHYD', '/Users/long/scisoft/CMFGEN/models/ostar/a3/RVTJ', '/Users/long/scisoft/CMFGEN/models/ostar/a3/OBSFLUX', '/Users/long/scisoft/CMFGEN/models/ostar/a3/obs/obs_fin']\n"
     ]
    }
   ],
   "source": [
    "def get_model(model_dir='/Users/long/scisoft/CMFGEN/models/ostar/a3'):\n",
    "    '''\n",
    "    This routine copies output files created by CMFGen to a local directroy\n",
    "    '''\n",
    "    if os.path.isdir(model_dir)==False:\n",
    "        print('Error: Could not find model dir: ',model_dir)\n",
    "        return\n",
    "\n",
    "    outdir=model_dir.split('/')[-1]\n",
    "    print(outdir)\n",
    "    os.makedirs(outdir,exist_ok=True)\n",
    "    # Get the files that contain the ion populations\n",
    "\n",
    "    popfiles=glob('%s/POP*' % model_dir)\n",
    "    rfile='%s/RVTJ' % model_dir\n",
    "    flux='%s/OBSFLUX' % model_dir\n",
    "    popfiles.append(rfile)\n",
    "    popfiles.append(flux)\n",
    "    obsfin='%s/obs/obs_fin' % model_dir\n",
    "    popfiles.append(obsfin)\n",
    "    print(popfiles)\n",
    "    \n",
    "    for file in popfiles:\n",
    "        outfile=file.split('/')[-1]\n",
    "        \n",
    "        shutil.copy2(file,'%s/%s' % (outdir,outfile))\n",
    "                  \n",
    "\n",
    "\n",
    "\n",
    "get_model()\n",
    "\n",
    "\n",
    "\n"
   ]
  },
  {
   "cell_type": "code",
   "execution_count": null,
   "id": "2318688b-a564-4f99-b5dd-4c62eeda85e4",
   "metadata": {},
   "outputs": [],
   "source": []
  }
 ],
 "metadata": {
  "kernelspec": {
   "display_name": "Python [conda env:ksl]",
   "language": "python",
   "name": "conda-env-ksl-py"
  },
  "language_info": {
   "codemirror_mode": {
    "name": "ipython",
    "version": 3
   },
   "file_extension": ".py",
   "mimetype": "text/x-python",
   "name": "python",
   "nbconvert_exporter": "python",
   "pygments_lexer": "ipython3",
   "version": "3.11.5"
  }
 },
 "nbformat": 4,
 "nbformat_minor": 5
}
