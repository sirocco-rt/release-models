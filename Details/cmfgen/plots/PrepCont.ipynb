{
 "cells": [
  {
   "cell_type": "markdown",
   "metadata": {},
   "source": [
    "# This is just a very simply script to reformat a CMFGen continuum, file into something readable by Python for a test\n",
    "\n"
   ]
  },
  {
   "cell_type": "code",
   "execution_count": 11,
   "metadata": {},
   "outputs": [
    {
     "data": {
      "text/plain": [
       "'/Users/long/Projects/Python/star_cmfgen_a3'"
      ]
     },
     "execution_count": 11,
     "metadata": {},
     "output_type": "execute_result"
    }
   ],
   "source": [
    "import os\n",
    "\n",
    "import numpy as np\n",
    "\n",
    "os.getcwd()"
   ]
  },
  {
   "cell_type": "code",
   "execution_count": 12,
   "metadata": {},
   "outputs": [],
   "source": [
    "from astropy.io import ascii\n",
    "import matplotlib.pyplot as plt"
   ]
  },
  {
   "cell_type": "code",
   "execution_count": 13,
   "metadata": {},
   "outputs": [
    {
     "name": "stdout",
     "output_type": "stream",
     "text": [
      "<Table length=5826>\n",
      " name  dtype \n",
      "----- -------\n",
      " Freq float64\n",
      " Wave float64\n",
      "nuFnu float64\n"
     ]
    }
   ],
   "source": [
    "x=ascii.read('../../CMFGEN/models/ostar/a3.cont_spec')\n",
    "x.info()"
   ]
  },
  {
   "cell_type": "markdown",
   "metadata": {},
   "source": [
    "For the input spectra, Python explcitly requries that the spectra are in the form of the Eddington flux, and that this be given in $ergs cm^{-2} s^{-1} $\n",
    "\n",
    "CMFGen gives spectra in units of Jy at 1 kpc, or $10^{-23} ergs cm^2 Hz^1}\n",
    "\n",
    "but we have already converted this in creating the tables above to cgs units nuFnu is for the observed flux at 100 pc in $ergs cm^[-2} s^{-1}$.  \n",
    "\n",
    "So the relationship we want here is based ont the equation\n",
    "\n",
    "$$\n",
    "H = \\frac{1}{4\\pi}\\left ( \\frac{D}{R} \\right )^2 F\n",
    "$$"
   ]
  },
  {
   "cell_type": "markdown",
   "metadata": {},
   "source": [
    "For the a3 model, R = 136.416 R_sun, for the A1 model it was the same. "
   ]
  },
  {
   "cell_type": "code",
   "execution_count": 14,
   "metadata": {},
   "outputs": [
    {
     "name": "stdout",
     "output_type": "stream",
     "text": [
      "8.374e+13\n"
     ]
    }
   ],
   "source": [
    "ratio=1/(4*np.pi)*(100*3.08e18)**2/(136.416*6.96e10)**2\n",
    "print('%.3e' % ratio)"
   ]
  },
  {
   "cell_type": "code",
   "execution_count": 15,
   "metadata": {},
   "outputs": [
    {
     "name": "stdout",
     "output_type": "stream",
     "text": [
      "3.456e+15\n",
      "41.2748799389974\n"
     ]
    }
   ],
   "source": [
    "old_ratio=(1e39/2.54e23)*(1.87/2.13)\n",
    "print('%.3e' % old_ratio)\n",
    "print(old_ratio/ratio)"
   ]
  },
  {
   "cell_type": "code",
   "execution_count": 6,
   "metadata": {},
   "outputs": [],
   "source": [
    "x['Flambda']=x['nuFnu']/x['Wave']"
   ]
  },
  {
   "cell_type": "code",
   "execution_count": 7,
   "metadata": {},
   "outputs": [],
   "source": [
    "x['Flambda']=x['nuFnu']/x['Wave']\n",
    "\n",
    "x['Flambda']*=(1e39/2.54e23)*(1.87/2.13)\n",
    "\n",
    "x['Wave'].format='.3f'\n",
    "x['Flambda'].format='8.3e'"
   ]
  },
  {
   "cell_type": "code",
   "execution_count": 8,
   "metadata": {},
   "outputs": [],
   "source": [
    "x['Wave','Flambda'].write('cont.txt',format='ascii.commented_header',overwrite=True)"
   ]
  },
  {
   "cell_type": "code",
   "execution_count": 9,
   "metadata": {},
   "outputs": [
    {
     "data": {
      "text/plain": [
       "(850, 1850)"
      ]
     },
     "execution_count": 9,
     "metadata": {},
     "output_type": "execute_result"
    },
    {
     "data": {
      "image/png": "[encoded data removed]",
      "text/plain": [
       "<Figure size 432x288 with 1 Axes>"
      ]
     },
     "metadata": {
      "needs_background": "light"
     },
     "output_type": "display_data"
    }
   ],
   "source": [
    "plt.semilogx(x['Wave'],x['Flambda'])\n",
    "plt.xlim(850,1850)"
   ]
  },
  {
   "cell_type": "markdown",
   "metadata": {},
   "source": [
    "## What is the predicted luminosity if this really is the Eddington flux"
   ]
  },
  {
   "cell_type": "code",
   "execution_count": 10,
   "metadata": {},
   "outputs": [],
   "source": [
    "r=136.416*6.96e10\n"
   ]
  },
  {
   "cell_type": "code",
   "execution_count": null,
   "metadata": {},
   "outputs": [],
   "source": []
  }
 ],
 "metadata": {
  "kernelspec": {
   "display_name": "Python [conda env:ksl]",
   "language": "python",
   "name": "conda-env-ksl-py"
  },
  "language_info": {
   "codemirror_mode": {
    "name": "ipython",
    "version": 3
   },
   "file_extension": ".py",
   "mimetype": "text/x-python",
   "name": "python",
   "nbconvert_exporter": "python",
   "pygments_lexer": "ipython3",
   "version": "3.11.5"
  }
 },
 "nbformat": 4,
 "nbformat_minor": 4
}
