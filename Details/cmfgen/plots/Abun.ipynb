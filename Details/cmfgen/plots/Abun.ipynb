{
 "cells": [
  {
   "cell_type": "markdown",
   "metadata": {},
   "source": [
    "# Try to get accurate abundances for a CMFGen model\n",
    "\n",
    "Use data in the MOD_SUM file"
   ]
  },
  {
   "cell_type": "code",
   "execution_count": 9,
   "metadata": {},
   "outputs": [],
   "source": [
    "from astropy.io import ascii\n",
    "import numpy as np"
   ]
  },
  {
   "cell_type": "code",
   "execution_count": 10,
   "metadata": {},
   "outputs": [],
   "source": [
    "x=ascii.read('abun.txt')"
   ]
  },
  {
   "cell_type": "code",
   "execution_count": 11,
   "metadata": {},
   "outputs": [
    {
     "name": "stdout",
     "output_type": "stream",
     "text": [
      "<Table length=20>\n",
      "     name      dtype \n",
      "------------- -------\n",
      "      SPECIES    str3\n",
      "  NumFraction float64\n",
      "Mass Fraction float64\n",
      "     Z/Z(sun) float64\n",
      "       Z(sun) float64\n"
     ]
    }
   ],
   "source": [
    "x.info()"
   ]
  },
  {
   "cell_type": "code",
   "execution_count": 15,
   "metadata": {},
   "outputs": [],
   "source": [
    "z=12+np.log10(x['NumFraction'])\n",
    "x['Abun']=z\n",
    "x['Abun'].format='.2f'"
   ]
  },
  {
   "cell_type": "code",
   "execution_count": 16,
   "metadata": {},
   "outputs": [
    {
     "data": {
      "text/html": [
       "<i>Table length=20</i>\n",
       "<table id=\"table4702590160\" class=\"table-striped table-bordered table-condensed\">\n",
       "<thead><tr><th>SPECIES</th><th>NumFraction</th><th>Mass Fraction</th><th>Z/Z(sun)</th><th>Z(sun)</th><th>Abun</th></tr></thead>\n",
       "<thead><tr><th>str3</th><th>float64</th><th>float64</th><th>float64</th><th>float64</th><th>float64</th></tr></thead>\n",
       "<tr><td>H</td><td>1.0</td><td>0.5534</td><td>0.79</td><td>0.701</td><td>12.00</td></tr>\n",
       "<tr><td>He</td><td>0.2</td><td>0.4428</td><td>1.58</td><td>0.28</td><td>11.30</td></tr>\n",
       "<tr><td>C</td><td>3.764e-05</td><td>0.00025</td><td>0.0819</td><td>0.00305</td><td>7.58</td></tr>\n",
       "<tr><td>N</td><td>0.0002581</td><td>0.002</td><td>1.82</td><td>0.0011</td><td>8.41</td></tr>\n",
       "<tr><td>O</td><td>6.324e-05</td><td>0.00056</td><td>0.0587</td><td>0.00954</td><td>7.80</td></tr>\n",
       "<tr><td>Ne</td><td>3.077e-05</td><td>0.000344</td><td>0.198</td><td>0.00174</td><td>7.49</td></tr>\n",
       "<tr><td>Na</td><td>5.421e-07</td><td>6.9e-06</td><td>0.2</td><td>3.45e-05</td><td>5.73</td></tr>\n",
       "<tr><td>Mg</td><td>9.592e-06</td><td>0.000129</td><td>0.199</td><td>0.000647</td><td>6.98</td></tr>\n",
       "<tr><td>Al</td><td>7.562e-07</td><td>1.13e-05</td><td>0.202</td><td>5.58e-05</td><td>5.88</td></tr>\n",
       "<tr><td>Si</td><td>9.131e-06</td><td>0.000142</td><td>0.203</td><td>0.000699</td><td>6.96</td></tr>\n",
       "<tr><td>P</td><td>8.277e-09</td><td>1.42e-07</td><td>0.0232</td><td>6.12e-06</td><td>3.92</td></tr>\n",
       "<tr><td>S</td><td>2.747e-06</td><td>4.88e-05</td><td>0.134</td><td>0.000365</td><td>6.44</td></tr>\n",
       "<tr><td>Cl</td><td>7.991e-08</td><td>1.57e-06</td><td>0.2</td><td>7.87e-06</td><td>4.90</td></tr>\n",
       "<tr><td>A</td><td>8.514e-07</td><td>1.88e-05</td><td>0.185</td><td>0.000102</td><td>5.93</td></tr>\n",
       "<tr><td>K</td><td>3.336e-08</td><td>7.22e-07</td><td>0.2</td><td>3.61e-06</td><td>4.52</td></tr>\n",
       "<tr><td>Ca</td><td>5.903e-07</td><td>1.31e-05</td><td>0.203</td><td>6.44e-05</td><td>5.77</td></tr>\n",
       "<tr><td>Chr</td><td>1.181e-07</td><td>3.4e-06</td><td>0.199</td><td>1.7e-05</td><td>5.07</td></tr>\n",
       "<tr><td>Mn</td><td>6.22e-08</td><td>1.89e-06</td><td>0.2</td><td>9.44e-06</td><td>4.79</td></tr>\n",
       "<tr><td>Fe</td><td>8.128e-06</td><td>0.000251</td><td>0.185</td><td>0.00136</td><td>6.91</td></tr>\n",
       "<tr><td>Ni</td><td>4.71e-07</td><td>1.53e-05</td><td>0.209</td><td>7.32e-05</td><td>5.67</td></tr>\n",
       "</table>"
      ],
      "text/plain": [
       "<Table length=20>\n",
       "SPECIES NumFraction Mass Fraction Z/Z(sun)  Z(sun)    Abun \n",
       "  str3    float64      float64    float64  float64  float64\n",
       "------- ----------- ------------- -------- -------- -------\n",
       "      H         1.0        0.5534     0.79    0.701   12.00\n",
       "     He         0.2        0.4428     1.58     0.28   11.30\n",
       "      C   3.764e-05       0.00025   0.0819  0.00305    7.58\n",
       "      N   0.0002581         0.002     1.82   0.0011    8.41\n",
       "      O   6.324e-05       0.00056   0.0587  0.00954    7.80\n",
       "     Ne   3.077e-05      0.000344    0.198  0.00174    7.49\n",
       "     Na   5.421e-07       6.9e-06      0.2 3.45e-05    5.73\n",
       "     Mg   9.592e-06      0.000129    0.199 0.000647    6.98\n",
       "     Al   7.562e-07      1.13e-05    0.202 5.58e-05    5.88\n",
       "     Si   9.131e-06      0.000142    0.203 0.000699    6.96\n",
       "      P   8.277e-09      1.42e-07   0.0232 6.12e-06    3.92\n",
       "      S   2.747e-06      4.88e-05    0.134 0.000365    6.44\n",
       "     Cl   7.991e-08      1.57e-06      0.2 7.87e-06    4.90\n",
       "      A   8.514e-07      1.88e-05    0.185 0.000102    5.93\n",
       "      K   3.336e-08      7.22e-07      0.2 3.61e-06    4.52\n",
       "     Ca   5.903e-07      1.31e-05    0.203 6.44e-05    5.77\n",
       "    Chr   1.181e-07       3.4e-06    0.199  1.7e-05    5.07\n",
       "     Mn    6.22e-08      1.89e-06      0.2 9.44e-06    4.79\n",
       "     Fe   8.128e-06      0.000251    0.185  0.00136    6.91\n",
       "     Ni    4.71e-07      1.53e-05    0.209 7.32e-05    5.67"
      ]
     },
     "execution_count": 16,
     "metadata": {},
     "output_type": "execute_result"
    }
   ],
   "source": [
    "x"
   ]
  },
  {
   "cell_type": "code",
   "execution_count": 18,
   "metadata": {},
   "outputs": [],
   "source": [
    "x.write('abun_out.txt',format='ascii.fixed_width_two_line',overwrite=True)"
   ]
  }
 ],
 "metadata": {
  "kernelspec": {
   "display_name": "Python 3 (ipykernel)",
   "language": "python",
   "name": "python3"
  },
  "language_info": {
   "codemirror_mode": {
    "name": "ipython",
    "version": 3
   },
   "file_extension": ".py",
   "mimetype": "text/x-python",
   "name": "python",
   "nbconvert_exporter": "python",
   "pygments_lexer": "ipython3",
   "version": "3.9.13"
  }
 },
 "nbformat": 4,
 "nbformat_minor": 4
}
