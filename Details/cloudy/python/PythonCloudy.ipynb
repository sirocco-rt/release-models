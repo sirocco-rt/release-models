{
 "cells": [
  {
   "cell_type": "markdown",
   "id": "bf934df8-de6b-47ed-9550-b9d76d3e5c9a",
   "metadata": {},
   "source": [
    "# Run a grid of models for comparison to cloudy (with fixed Temperature)\n",
    "\n",
    "This version not only runs the models but also does everything that is needed to produce data for the resulsts. \n",
    "\n",
    "This should enable one to compare models for various model inputs"
   ]
  },
  {
   "cell_type": "code",
   "execution_count": 1,
   "id": "78bcd7de-aa9f-42af-854f-f006745ec9a0",
   "metadata": {
    "scrolled": true
   },
   "outputs": [
    {
     "data": {
      "text/plain": [
       "'/Users/long/Projects/Python/release-models/cloudy/python'"
      ]
     },
     "execution_count": 1,
     "metadata": {},
     "output_type": "execute_result"
    }
   ],
   "source": [
    "import os\n",
    "os.getcwd()"
   ]
  },
  {
   "cell_type": "code",
   "execution_count": 2,
   "id": "d76b94ed-a958-47f3-ba7f-621289e0a40d",
   "metadata": {},
   "outputs": [],
   "source": [
    "import subprocess\n",
    "import numpy as np\n",
    "import shutil\n",
    "from glob import glob\n",
    "from astropy.io import ascii\n",
    "from astropy.table import Table, join,vstack,hstack\n",
    "from glob import glob\n",
    "import numpy as np\n",
    "import matplotlib.pyplot as plt"
   ]
  },
  {
   "cell_type": "code",
   "execution_count": 3,
   "id": "a70185aa-6ee6-4ac5-882e-5de320845144",
   "metadata": {},
   "outputs": [],
   "source": [
    "VERSION='88a'"
   ]
  },
  {
   "cell_type": "code",
   "execution_count": 7,
   "id": "11bbe8fa-e7ca-4e42-8f7b-fb4979d385b1",
   "metadata": {},
   "outputs": [],
   "source": [
    "base='''System_type(star,cv,bh,agn,previous)                   bh\n",
    "\n",
    "### Parameters for the Central Object\n",
    "Central_object.mass(msol)                  0.8\n",
    "Central_object.radius(cm)                  1e10\n",
    "Binary.mass_sec(msol)                           0.4\n",
    "Binary.period(hr)                             1000\n",
    "\n",
    "### Parameters for the Disk (if there is one)\n",
    "Disk.type(none,flat,vertically.extended,rmin>central.obj.rad)                 none\n",
    "\n",
    "### Parameters for Boundary Layer or the compact object in an X-ray Binary or AGN\n",
    "Central_object.radiation(yes,no)                  yes\n",
    "Central_object.rad_type_to_make_wind(bb,models,power,cloudy,brems,mono)               cloudy\n",
    "Central_object.luminosity(ergs/s)          %.3e\n",
    "Central_object.power_law_index             -0.9\n",
    "Central_object.geometry_for_source(sphere,lamp_post,bubble)               sphere\n",
    "Central_object.cloudy.low_energy_break(ev)                .136\n",
    "Central_object.cloudy.high_energy_break(ev)               20000\n",
    "\n",
    "### Parameters describing the various winds or coronae in the system\n",
    "Wind.number_of_components                  1\n",
    "Wind.type(SV,star,hydro,corona,kwd,homologous,shell,imported)                shell\n",
    "\n",
    "### Parameters associated with photon number, cycles,ionization and radiative transfer options\n",
    "Photons_per_cycle                          10000000\n",
    "Ionization_cycles                          30\n",
    "Spectrum_cycles                            0\n",
    "Wind.ionization(on.the.spot,ML93,LTE_tr,LTE_te,fixed,matrix_bb,matrix_pow,matrix_est)           matrix_pow\n",
    "Line_transfer(pure_abs,pure_scat,sing_scat,escape_prob,thermal_trapping,macro_atoms_escape_prob,macro_atoms_thermal_trapping)     thermal_trapping\n",
    "Wind.radiation(yes,no)                           no\n",
    "Atomic_data                                data/standard80.dat\n",
    "Surface.reflection.or.absorption(reflect,absorb,thermalized.rerad)              reflect\n",
    "Wind_heating.extra_processes(none,adiabatic,nonthermal,both)                 none\n",
    "\n",
    "### Parameters for Domain 0\n",
    "Shell.wind_mdot(msol/yr)                   4.7e-20\n",
    "Shell.wind.radmin(cm)                      1e11\n",
    "Shell.wind.radmax(cm)                      1.00000000001e11\n",
    "Shell.wind_v_at_rmin(cm)                   1\n",
    "Shell.wind.v_at_rmax(cm)                   1.000010\n",
    "Shell.wind.acceleration_exponent           1\n",
    "Wind.t.init                                10000\n",
    "Wind.filling_factor(1=smooth,<1=clumped)   1\n",
    "\n",
    "### Parameters for Reverberation Modeling (if needed)\n",
    "Reverb.type(none,photon,wind,matom)                 none\n",
    "\n",
    "### Other parameters\n",
    "Photon_sampling.approach(T_star,cv,yso,AGN,tde_bb,min_max_freq,user_bands,cloudy_test,wide,logarithmic)          cloudy_test\n",
    "Photon_sampling.low_energy_limit(eV)            0.13\n",
    "Photon_sampling.high_energy_limit(eV)                 1e8\n",
    "'''"
   ]
  },
  {
   "cell_type": "code",
   "execution_count": 8,
   "id": "4aa0e840-6e60-4474-8b4f-d1db1302e437",
   "metadata": {},
   "outputs": [
    {
     "name": "stdout",
     "output_type": "stream",
     "text": [
      "1e+21\n",
      "mpirun -np 8 py88a -p py88a_m8.00 > py88a_m8.00.out.txt\n",
      "Sun Mar 31 14:10:23 2024     89.3 COMPLETE             py88a_m8.00\n",
      "\n"
     ]
    },
    {
     "data": {
      "text/plain": [
       "0"
      ]
     },
     "execution_count": 8,
     "metadata": {},
     "output_type": "execute_result"
    }
   ],
   "source": [
    "def run_one(log_ip=-8,version=VERSION):\n",
    "\n",
    "    if log_ip<0:\n",
    "        pfname='py%s_m%03.2f' % (version,-log_ip)\n",
    "    else:\n",
    "        pfname='py%s_p%03.2f' % (version,log_ip)\n",
    "    \n",
    "\n",
    "    f=open(pfname+'.pf','w')\n",
    "    \n",
    "    xlum=1e21 * 10**(log_ip+8.0)\n",
    "\n",
    "    print(xlum)\n",
    "    \n",
    "    f.write(base % xlum)\n",
    "    f.close()\n",
    "\n",
    "    py='py'+version\n",
    "  \n",
    "\n",
    "    xcommand='mpirun -np 8 %s -p %s > %s.out.txt' % (py,pfname,pfname)\n",
    "    print(xcommand)\n",
    "    subprocess.run(xcommand,shell=True, check=True)\n",
    "\n",
    "    try:\n",
    "        signame= '%s.sig' % pfname\n",
    "        f=open(signame)\n",
    "    except:\n",
    "        print('Error: Could not open %s ' % signame)\n",
    "        return 1\n",
    "        \n",
    "\n",
    "    lines=f.readlines()\n",
    "    last_line=lines[-1]\n",
    "    print(last_line)\n",
    "    if last_line.count('COMPLETE'):\n",
    "        windsave2table = 'windsave2table%s' % version\n",
    "        xcommand='%s %s >> %s.out.txt' % (windsave2table,pfname,pfname)\n",
    "        # print(xcommand)\n",
    "        subprocess.run(xcommand,shell=True, check=True)\n",
    "        return 0\n",
    "    return 1\n",
    "              \n",
    "run_one()    "
   ]
  },
  {
   "cell_type": "code",
   "execution_count": null,
   "id": "77eaaa1d-a842-49d9-9b2a-0deca14832cd",
   "metadata": {},
   "outputs": [],
   "source": [
    "def do_many(log_ipmin=-5,log_ipmax=8,npts=10,version=VERSION):\n",
    "    log_ip=np.linspace(log_ipmin,log_ipmax,npts)\n",
    "    # print(log_ip)\n",
    "    i=1\n",
    "    for one in log_ip:\n",
    "        if one<0:\n",
    "            pfname='py%s_m%03.2f' % (version,-one)\n",
    "        else:\n",
    "            pfname='py%s_p%03.2f' % (version,one)\n",
    "        ival=run_one(one,version)\n",
    "        if ival==0:\n",
    "            os.remove(pfname+'.wind_save')\n",
    "            shutil.rmtree('diag_%s' % pfname)\n",
    "            files = glob('%s*spec*' % pfname)\n",
    "            # print(files)\n",
    "            for one_file in files:\n",
    "                os.remove(one_file)\n",
    "            print('Finished %s successfully (%d/%d)' % (pfname,i,len(log_ip)))\n",
    "        else:\n",
    "            print('Failed on %s  (%d/%d)' % (pfname,i,len(log_ip)))\n",
    "        i+=1\n",
    "                  \n",
    "        \n",
    "            \n",
    "            \n",
    "            \n",
    "\n",
    "do_many(npts=100,version=VERSION)\n",
    "    \n",
    "    \n",
    "    "
   ]
  },
  {
   "cell_type": "markdown",
   "id": "2a34ba18-29ef-45e2-ab4d-011ace071eac",
   "metadata": {},
   "source": [
    "# Now summarize the results"
   ]
  },
  {
   "cell_type": "code",
   "execution_count": null,
   "id": "0667ff17-8b67-4c22-9238-3b2ffe093fe2",
   "metadata": {},
   "outputs": [],
   "source": [
    "xfiles=glob('py%s*master.txt'% VERSION)\n",
    "# xfiles\n",
    "xroots=[]\n",
    "for one in xfiles:\n",
    "    xroots.append(one.replace('.master.txt',''))\n",
    "\n",
    "xroots=np.sort(xroots)"
   ]
  },
  {
   "cell_type": "code",
   "execution_count": null,
   "id": "d15a791d-f276-4d21-be4f-bf4250c340f7",
   "metadata": {},
   "outputs": [],
   "source": [
    "def get_roots(prefix='py%s' % VERSION):\n",
    "    xfiles=glob('%s*master.txt' % prefix)\n",
    "    xorder=[]\n",
    "    xroot=[]\n",
    "    for one in xfiles:\n",
    "        foo=one.replace('.master.txt','')\n",
    "        xroot.append(foo)\n",
    "        foo=foo.replace('%s_' % prefix,'')\n",
    "        foo=foo.replace('p','+')\n",
    "        foo=foo.replace('m','-')\n",
    "        xorder.append(eval(foo))\n",
    "    xtab=Table([xroot,xorder],names=['Root','IP'])\n",
    "    xtab['IP'].format='.2f'\n",
    "    xtab.sort('IP')\n",
    "    return xtab\n",
    "    \n",
    "\n",
    "         \n",
    "    \n",
    "root_tab=get_roots()        "
   ]
  },
  {
   "cell_type": "code",
   "execution_count": null,
   "id": "62526a58-e35d-453d-8bc8-963f9b79e925",
   "metadata": {},
   "outputs": [],
   "source": [
    "root_tab"
   ]
  },
  {
   "cell_type": "code",
   "execution_count": null,
   "id": "14c44590-5720-43d2-ac88-01a91147bc96",
   "metadata": {},
   "outputs": [],
   "source": [
    "def get_frac(root,element='H'):\n",
    "    filename='%s.%s.frac.txt' % (root,element)\n",
    "    try:\n",
    "        xtab=ascii.read(filename)\n",
    "        \n",
    "    except:\n",
    "        print('Error: could not read %s',filename)\n",
    "        return None\n",
    "\n",
    "    colnames=xtab.colnames\n",
    "    # print(colnames)\n",
    "    # i=3\n",
    "    # while i<len(colnames):\n",
    "    #    xtab.rename_column(colnames[i],colnames[i].replace('i',element))\n",
    "    #    i+=1\n",
    "    xtab.remove_column('r')\n",
    "    xtab.remove_column('inwind')\n",
    "    return xtab\n",
    "\n",
    "get_frac('py%s_p0.25' % VERSION,'H')\n",
    "\n",
    "    "
   ]
  },
  {
   "cell_type": "code",
   "execution_count": null,
   "id": "9d68d5b5-f99a-4514-bc09-08d02943e993",
   "metadata": {},
   "outputs": [],
   "source": [
    "def make_summary_table(roots, element='H',version=VERSION):\n",
    "\n",
    "    record=[]\n",
    "    for one in roots:\n",
    "        xtab=ascii.read(one+'.master.txt')\n",
    "        ytab=xtab['i','converge','t_e','t_r','ip','xi']\n",
    "        ztab=ytab[ytab['i']==1]\n",
    "        # print(ztab)\n",
    "        htab=get_frac(one,element)\n",
    "        zztab=join(ztab,htab,join_type='left')\n",
    "        # hetab=get_frac(one,'He')\n",
    "        # zztab=join(zztab,hetab,join_type='left')\n",
    "        # # print(zztab)\n",
    "        record.append(zztab)\n",
    "\n",
    "    xxx=vstack(record)\n",
    "\n",
    "    \n",
    "\n",
    "    xxx['ip'].format='.3e'\n",
    "    xxx['xi'].format='.3e'\n",
    "    xxx['t_e'].format='.3e'\n",
    "    xxx['t_r'].format='.3e'\n",
    "    \n",
    "\n",
    "    xxx.write('Sum_py%s_%s_pl.txt' % (version,element),format='ascii.fixed_width_two_line',overwrite=True)\n",
    "    return xxx\n",
    "\n",
    "\n",
    "\n",
    "make_summary_table(root_tab['Root'])\n",
    "        "
   ]
  },
  {
   "cell_type": "code",
   "execution_count": null,
   "id": "0e0f5023-e44c-4612-9917-8b6f1c5e58bc",
   "metadata": {},
   "outputs": [],
   "source": [
    "x=make_summary_table(root_tab['Root'],'He')\n",
    "x=make_summary_table(root_tab['Root'],'C')\n",
    "x=make_summary_table(root_tab['Root'],'N')\n",
    "x=make_summary_table(root_tab['Root'],'O')\n",
    "x=make_summary_table(root_tab['Root'],'Fe')\n",
    "# x=make_summary_table(root_tab['Root'],'C')"
   ]
  },
  {
   "cell_type": "code",
   "execution_count": null,
   "id": "9692458f-3c61-4840-bc34-b439e4fa2fe5",
   "metadata": {},
   "outputs": [],
   "source": [
    "def do_all(version=VERSION):\n",
    "    root_tab=get_roots('py%s' % version)\n",
    "    sum_tab=make_summary_table(root_tab['Root'])\n",
    "    print(root_tab.info)\n",
    "    print(sum_tab.info)\n",
    "    final=hstack([root_tab,sum_tab])\n",
    "    final.info()\n",
    "    return final\n",
    "\n",
    "xfinal=do_all()"
   ]
  },
  {
   "cell_type": "code",
   "execution_count": null,
   "id": "537126ef-a096-4771-b442-542c4722a5fa",
   "metadata": {},
   "outputs": [],
   "source": [
    "plt.figure(1,(6,6))\n",
    "plt.plot(xfinal['IP'],np.log10(xfinal['ip']),label='Culculated')\n",
    "plt.plot([-8,8],[-8,8],':',label='Desired')\n",
    "plt.xlabel('Desired IP')\n",
    "plt.ylabel('Final ip')\n",
    "plt.xlim(-8,8)\n",
    "plt.ylim(-8,8)\n",
    "plt.legend()"
   ]
  },
  {
   "cell_type": "code",
   "execution_count": null,
   "id": "28db3737-3bc3-4a35-b968-48a04490f6d5",
   "metadata": {},
   "outputs": [],
   "source": [
    "xfinal.write('toast.txt',format='ascii.fixed_width_two_line',overwrite=True)"
   ]
  },
  {
   "cell_type": "code",
   "execution_count": null,
   "id": "0f65bee2-8230-4b69-a406-606086f80cc2",
   "metadata": {},
   "outputs": [],
   "source": []
  }
 ],
 "metadata": {
  "kernelspec": {
   "display_name": "Python 3 (ipykernel)",
   "language": "python",
   "name": "python3"
  },
  "language_info": {
   "codemirror_mode": {
    "name": "ipython",
    "version": 3
   },
   "file_extension": ".py",
   "mimetype": "text/x-python",
   "name": "python",
   "nbconvert_exporter": "python",
   "pygments_lexer": "ipython3",
   "version": "3.9.13"
  }
 },
 "nbformat": 4,
 "nbformat_minor": 5
}
