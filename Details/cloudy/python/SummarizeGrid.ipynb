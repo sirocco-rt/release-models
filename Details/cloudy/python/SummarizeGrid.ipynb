{
 "cells": [
  {
   "cell_type": "code",
   "execution_count": 1,
   "id": "1ef29104-d37d-4880-bfe5-00d8ff628a6c",
   "metadata": {},
   "outputs": [
    {
     "data": {
      "text/plain": [
       "'/Users/long/Projects/Python/release-models/cloudy/python'"
      ]
     },
     "execution_count": 1,
     "metadata": {},
     "output_type": "execute_result"
    }
   ],
   "source": [
    "import os\n",
    "os.getcwd()"
   ]
  },
  {
   "cell_type": "code",
   "execution_count": 2,
   "id": "d55ad414-0c75-4780-aa9e-747c9036c71e",
   "metadata": {},
   "outputs": [],
   "source": [
    "from astropy.io import ascii\n",
    "from astropy.table import Table, join,vstack,hstack\n",
    "from glob import glob\n",
    "import numpy as np\n",
    "import matplotlib.pyplot as plt"
   ]
  },
  {
   "cell_type": "code",
   "execution_count": 3,
   "id": "f8e1272d-5c21-4ff8-a164-233e519d03c7",
   "metadata": {},
   "outputs": [],
   "source": [
    "xfiles=glob('xx*master.txt')\n",
    "# xfiles\n",
    "xroots=[]\n",
    "for one in xfiles:\n",
    "    xroots.append(one.replace('.master.txt',''))\n",
    "\n",
    "xroots=np.sort(xroots)\n"
   ]
  },
  {
   "cell_type": "code",
   "execution_count": 4,
   "id": "474508c3-fedb-4ea6-88e8-854414466e12",
   "metadata": {},
   "outputs": [],
   "source": [
    "def get_roots(prefix='xx'):\n",
    "    xfiles=glob('%s*master.txt' % prefix)\n",
    "    xorder=[]\n",
    "    xroot=[]\n",
    "    for one in xfiles:\n",
    "        foo=one.replace('.master.txt','')\n",
    "        xroot.append(foo)\n",
    "        foo=foo.replace('%s_' % prefix,'')\n",
    "        foo=foo.replace('p','+')\n",
    "        foo=foo.replace('m','-')\n",
    "        xorder.append(eval(foo))\n",
    "    xtab=Table([xroot,xorder],names=['Root','IP'])\n",
    "    xtab['IP'].format='.2f'\n",
    "    xtab.sort('IP')\n",
    "    return xtab\n",
    "    \n",
    "\n",
    "         \n",
    "    \n",
    "root_tab=get_roots()        "
   ]
  },
  {
   "cell_type": "code",
   "execution_count": 5,
   "id": "714e20c5-f3c1-45dc-8ee5-3c7e997b4fb1",
   "metadata": {},
   "outputs": [
    {
     "data": {
      "text/html": [
       "<div><i>Table length=101</i>\n",
       "<table id=\"table5478672656\" class=\"table-striped table-bordered table-condensed\">\n",
       "<thead><tr><th>Root</th><th>IP</th></tr></thead>\n",
       "<thead><tr><th>str8</th><th>float64</th></tr></thead>\n",
       "<tr><td>xx_m8.00</td><td>-8.00</td></tr>\n",
       "<tr><td>xx_m5.00</td><td>-5.00</td></tr>\n",
       "<tr><td>xx_m4.87</td><td>-4.87</td></tr>\n",
       "<tr><td>xx_m4.74</td><td>-4.74</td></tr>\n",
       "<tr><td>xx_m4.61</td><td>-4.61</td></tr>\n",
       "<tr><td>xx_m4.47</td><td>-4.47</td></tr>\n",
       "<tr><td>...</td><td>...</td></tr>\n",
       "<tr><td>xx_p7.21</td><td>7.21</td></tr>\n",
       "<tr><td>xx_p7.34</td><td>7.34</td></tr>\n",
       "<tr><td>xx_p7.47</td><td>7.47</td></tr>\n",
       "<tr><td>xx_p7.61</td><td>7.61</td></tr>\n",
       "<tr><td>xx_p7.74</td><td>7.74</td></tr>\n",
       "<tr><td>xx_p7.87</td><td>7.87</td></tr>\n",
       "<tr><td>xx_p8.00</td><td>8.00</td></tr>\n",
       "</table></div>"
      ],
      "text/plain": [
       "<Table length=101>\n",
       "  Root      IP  \n",
       "  str8   float64\n",
       "-------- -------\n",
       "xx_m8.00   -8.00\n",
       "xx_m5.00   -5.00\n",
       "xx_m4.87   -4.87\n",
       "xx_m4.74   -4.74\n",
       "xx_m4.61   -4.61\n",
       "xx_m4.47   -4.47\n",
       "     ...     ...\n",
       "xx_p7.21    7.21\n",
       "xx_p7.34    7.34\n",
       "xx_p7.47    7.47\n",
       "xx_p7.61    7.61\n",
       "xx_p7.74    7.74\n",
       "xx_p7.87    7.87\n",
       "xx_p8.00    8.00"
      ]
     },
     "execution_count": 5,
     "metadata": {},
     "output_type": "execute_result"
    }
   ],
   "source": [
    "root_tab"
   ]
  },
  {
   "cell_type": "code",
   "execution_count": 6,
   "id": "67704e44-8ecd-4958-9952-200b64d98802",
   "metadata": {},
   "outputs": [
    {
     "data": {
      "text/html": [
       "<div><i>Table length=4</i>\n",
       "<table id=\"table4367464464\" class=\"table-striped table-bordered table-condensed\">\n",
       "<thead><tr><th>i</th><th>i01</th><th>i02</th></tr></thead>\n",
       "<thead><tr><th>int64</th><th>float64</th><th>float64</th></tr></thead>\n",
       "<tr><td>0</td><td>0.0</td><td>0.0</td></tr>\n",
       "<tr><td>1</td><td>5.15e-05</td><td>1.0</td></tr>\n",
       "<tr><td>2</td><td>0.0</td><td>0.0</td></tr>\n",
       "<tr><td>3</td><td>0.0</td><td>0.0</td></tr>\n",
       "</table></div>"
      ],
      "text/plain": [
       "<Table length=4>\n",
       "  i     i01      i02  \n",
       "int64 float64  float64\n",
       "----- -------- -------\n",
       "    0      0.0     0.0\n",
       "    1 5.15e-05     1.0\n",
       "    2      0.0     0.0\n",
       "    3      0.0     0.0"
      ]
     },
     "execution_count": 6,
     "metadata": {},
     "output_type": "execute_result"
    }
   ],
   "source": [
    "def get_frac(root,element='H'):\n",
    "    filename='%s.%s.frac.txt' % (root,element)\n",
    "    try:\n",
    "        xtab=ascii.read(filename)\n",
    "        \n",
    "    except:\n",
    "        print('Error: could not read %s',filename)\n",
    "        return None\n",
    "\n",
    "    colnames=xtab.colnames\n",
    "    # print(colnames)\n",
    "    # i=3\n",
    "    # while i<len(colnames):\n",
    "    #    xtab.rename_column(colnames[i],colnames[i].replace('i',element))\n",
    "    #    i+=1\n",
    "    xtab.remove_column('r')\n",
    "    xtab.remove_column('inwind')\n",
    "    return xtab\n",
    "\n",
    "get_frac('xx_p0.25','H')\n",
    "\n",
    "    \n",
    "\n",
    "    "
   ]
  },
  {
   "cell_type": "code",
   "execution_count": 7,
   "id": "839b1145-5c3d-4918-81ee-bf6299cacbae",
   "metadata": {},
   "outputs": [
    {
     "data": {
      "text/html": [
       "<div><i>Table length=101</i>\n",
       "<table id=\"table5479283088\" class=\"table-striped table-bordered table-condensed\">\n",
       "<thead><tr><th>i</th><th>converge</th><th>t_e</th><th>t_r</th><th>ip</th><th>xi</th><th>i01</th><th>i02</th></tr></thead>\n",
       "<thead><tr><th>int64</th><th>int64</th><th>float64</th><th>float64</th><th>float64</th><th>float64</th><th>float64</th><th>float64</th></tr></thead>\n",
       "<tr><td>1</td><td>0</td><td>5.420e+03</td><td>7.100e+07</td><td>4.730e-10</td><td>3.480e-08</td><td>0.994</td><td>0.00563</td></tr>\n",
       "<tr><td>1</td><td>0</td><td>8.150e+03</td><td>7.100e+07</td><td>4.730e-07</td><td>3.480e-05</td><td>0.815</td><td>0.185</td></tr>\n",
       "<tr><td>1</td><td>0</td><td>8.290e+03</td><td>7.100e+07</td><td>6.400e-07</td><td>4.710e-05</td><td>0.787</td><td>0.213</td></tr>\n",
       "<tr><td>1</td><td>0</td><td>8.440e+03</td><td>7.100e+07</td><td>8.660e-07</td><td>6.380e-05</td><td>0.756</td><td>0.244</td></tr>\n",
       "<tr><td>1</td><td>0</td><td>8.590e+03</td><td>7.100e+07</td><td>1.170e-06</td><td>8.630e-05</td><td>0.721</td><td>0.279</td></tr>\n",
       "<tr><td>1</td><td>0</td><td>8.740e+03</td><td>7.100e+07</td><td>1.590e-06</td><td>1.170e-04</td><td>0.683</td><td>0.317</td></tr>\n",
       "<tr><td>...</td><td>...</td><td>...</td><td>...</td><td>...</td><td>...</td><td>...</td><td>...</td></tr>\n",
       "<tr><td>1</td><td>2</td><td>1.060e+07</td><td>7.100e+07</td><td>7.710e+05</td><td>5.680e+07</td><td>1.36e-14</td><td>1.0</td></tr>\n",
       "<tr><td>1</td><td>2</td><td>1.060e+07</td><td>7.100e+07</td><td>1.040e+06</td><td>7.680e+07</td><td>1.01e-14</td><td>1.0</td></tr>\n",
       "<tr><td>1</td><td>2</td><td>1.060e+07</td><td>7.100e+07</td><td>1.410e+06</td><td>1.040e+08</td><td>7.44e-15</td><td>1.0</td></tr>\n",
       "<tr><td>1</td><td>2</td><td>1.060e+07</td><td>7.100e+07</td><td>1.910e+06</td><td>1.410e+08</td><td>5.5e-15</td><td>1.0</td></tr>\n",
       "<tr><td>1</td><td>2</td><td>1.060e+07</td><td>7.100e+07</td><td>2.580e+06</td><td>1.900e+08</td><td>4.07e-15</td><td>1.0</td></tr>\n",
       "<tr><td>1</td><td>2</td><td>1.060e+07</td><td>7.100e+07</td><td>3.500e+06</td><td>2.570e+08</td><td>3.01e-15</td><td>1.0</td></tr>\n",
       "<tr><td>1</td><td>2</td><td>1.060e+07</td><td>7.100e+07</td><td>4.730e+06</td><td>3.480e+08</td><td>2.22e-15</td><td>1.0</td></tr>\n",
       "</table></div>"
      ],
      "text/plain": [
       "<Table length=101>\n",
       "  i   converge    t_e       t_r        ip        xi      i01      i02  \n",
       "int64  int64    float64   float64   float64   float64  float64  float64\n",
       "----- -------- --------- --------- --------- --------- -------- -------\n",
       "    1        0 5.420e+03 7.100e+07 4.730e-10 3.480e-08    0.994 0.00563\n",
       "    1        0 8.150e+03 7.100e+07 4.730e-07 3.480e-05    0.815   0.185\n",
       "    1        0 8.290e+03 7.100e+07 6.400e-07 4.710e-05    0.787   0.213\n",
       "    1        0 8.440e+03 7.100e+07 8.660e-07 6.380e-05    0.756   0.244\n",
       "    1        0 8.590e+03 7.100e+07 1.170e-06 8.630e-05    0.721   0.279\n",
       "    1        0 8.740e+03 7.100e+07 1.590e-06 1.170e-04    0.683   0.317\n",
       "  ...      ...       ...       ...       ...       ...      ...     ...\n",
       "    1        2 1.060e+07 7.100e+07 7.710e+05 5.680e+07 1.36e-14     1.0\n",
       "    1        2 1.060e+07 7.100e+07 1.040e+06 7.680e+07 1.01e-14     1.0\n",
       "    1        2 1.060e+07 7.100e+07 1.410e+06 1.040e+08 7.44e-15     1.0\n",
       "    1        2 1.060e+07 7.100e+07 1.910e+06 1.410e+08  5.5e-15     1.0\n",
       "    1        2 1.060e+07 7.100e+07 2.580e+06 1.900e+08 4.07e-15     1.0\n",
       "    1        2 1.060e+07 7.100e+07 3.500e+06 2.570e+08 3.01e-15     1.0\n",
       "    1        2 1.060e+07 7.100e+07 4.730e+06 3.480e+08 2.22e-15     1.0"
      ]
     },
     "execution_count": 7,
     "metadata": {},
     "output_type": "execute_result"
    }
   ],
   "source": [
    "def make_summary_table(roots, element='H'):\n",
    "\n",
    "    record=[]\n",
    "    for one in roots:\n",
    "        xtab=ascii.read(one+'.master.txt')\n",
    "        ytab=xtab['i','converge','t_e','t_r','ip','xi']\n",
    "        ztab=ytab[ytab['i']==1]\n",
    "        # print(ztab)\n",
    "        htab=get_frac(one,element)\n",
    "        zztab=join(ztab,htab,join_type='left')\n",
    "        # hetab=get_frac(one,'He')\n",
    "        # zztab=join(zztab,hetab,join_type='left')\n",
    "        # # print(zztab)\n",
    "        record.append(zztab)\n",
    "\n",
    "    xxx=vstack(record)\n",
    "\n",
    "    \n",
    "\n",
    "    xxx['ip'].format='.3e'\n",
    "    xxx['xi'].format='.3e'\n",
    "    xxx['t_e'].format='.3e'\n",
    "    xxx['t_r'].format='.3e'\n",
    "    \n",
    "\n",
    "    xxx.write('py_%s_pl.txt' % element,format='ascii.fixed_width_two_line',overwrite=True)\n",
    "    return xxx\n",
    "\n",
    "\n",
    "\n",
    "make_summary_table(root_tab['Root'])\n",
    "        "
   ]
  },
  {
   "cell_type": "code",
   "execution_count": 8,
   "id": "8b547028-9ca5-47c4-a2c6-7cece60265c7",
   "metadata": {},
   "outputs": [],
   "source": [
    "x=make_summary_table(root_tab['Root'],'He')\n",
    "x=make_summary_table(root_tab['Root'],'C')\n",
    "x=make_summary_table(root_tab['Root'],'N')\n",
    "x=make_summary_table(root_tab['Root'],'O')\n",
    "x=make_summary_table(root_tab['Root'],'Fe')\n",
    "# x=make_summary_table(root_tab['Root'],'C')"
   ]
  },
  {
   "cell_type": "code",
   "execution_count": 9,
   "id": "d5d6a886-2623-454b-aa2b-936c96517b2e",
   "metadata": {},
   "outputs": [
    {
     "name": "stdout",
     "output_type": "stream",
     "text": [
      "<Table length=101>\n",
      "name  dtype  format\n",
      "---- ------- ------\n",
      "Root    str8       \n",
      "  IP float64    .2f\n",
      "\n",
      "<Table length=101>\n",
      "  name    dtype  format\n",
      "-------- ------- ------\n",
      "       i   int64       \n",
      "converge   int64       \n",
      "     t_e float64    .3e\n",
      "     t_r float64    .3e\n",
      "      ip float64    .3e\n",
      "      xi float64    .3e\n",
      "     i01 float64       \n",
      "     i02 float64       \n",
      "\n",
      "<Table length=101>\n",
      "  name    dtype  format\n",
      "-------- ------- ------\n",
      "    Root    str8       \n",
      "      IP float64    .2f\n",
      "       i   int64       \n",
      "converge   int64       \n",
      "     t_e float64    .3e\n",
      "     t_r float64    .3e\n",
      "      ip float64    .3e\n",
      "      xi float64    .3e\n",
      "     i01 float64       \n",
      "     i02 float64       \n"
     ]
    }
   ],
   "source": [
    "def do_all():\n",
    "    root_tab=get_roots('xx')\n",
    "    sum_tab=make_summary_table(root_tab['Root'])\n",
    "    print(root_tab.info)\n",
    "    print(sum_tab.info)\n",
    "    final=hstack([root_tab,sum_tab])\n",
    "    final.info()\n",
    "    return final\n",
    "\n",
    "xfinal=do_all()"
   ]
  },
  {
   "cell_type": "code",
   "execution_count": 10,
   "id": "8aaa5665-dc3a-44d1-bb31-0db49890294e",
   "metadata": {},
   "outputs": [
    {
     "data": {
      "text/plain": [
       "<matplotlib.legend.Legend at 0x146cacc50>"
      ]
     },
     "execution_count": 10,
     "metadata": {},
     "output_type": "execute_result"
    },
    {
     "data": {
      "image/png": "[encoded data removed]",
      "text/plain": [
       "<Figure size 600x600 with 1 Axes>"
      ]
     },
     "metadata": {},
     "output_type": "display_data"
    }
   ],
   "source": [
    "plt.figure(1,(6,6))\n",
    "plt.plot(xfinal['IP'],np.log10(xfinal['ip']),label='Culculated')\n",
    "plt.plot([-8,8],[-8,8],':',label='Desired')\n",
    "plt.xlabel('Desired IP')\n",
    "plt.ylabel('Final ip')\n",
    "plt.xlim(-8,8)\n",
    "plt.ylim(-8,8)\n",
    "plt.legend()"
   ]
  },
  {
   "cell_type": "code",
   "execution_count": 11,
   "id": "49add4bd-0690-4877-a930-2a44c5fc78df",
   "metadata": {},
   "outputs": [],
   "source": [
    "xfinal.write('toast.txt',format='ascii.fixed_width_two_line',overwrite=True)"
   ]
  },
  {
   "cell_type": "code",
   "execution_count": null,
   "id": "baf12d1d-6fd7-4997-ad09-9112117cc7b6",
   "metadata": {},
   "outputs": [],
   "source": []
  }
 ],
 "metadata": {
  "kernelspec": {
   "display_name": "Python [conda env:ksl]",
   "language": "python",
   "name": "conda-env-ksl-py"
  },
  "language_info": {
   "codemirror_mode": {
    "name": "ipython",
    "version": 3
   },
   "file_extension": ".py",
   "mimetype": "text/x-python",
   "name": "python",
   "nbconvert_exporter": "python",
   "pygments_lexer": "ipython3",
   "version": "3.11.5"
  }
 },
 "nbformat": 4,
 "nbformat_minor": 5
}
