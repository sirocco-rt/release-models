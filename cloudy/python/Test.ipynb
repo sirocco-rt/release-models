{
 "cells": [
  {
   "cell_type": "code",
   "execution_count": 1,
   "id": "4661e5d8-1b57-483a-9491-a9965206f204",
   "metadata": {},
   "outputs": [],
   "source": [
    "from importlib import reload\n",
    "import PythonCloudy_macro"
   ]
  },
  {
   "cell_type": "code",
   "execution_count": 4,
   "id": "cdd8fad1-0539-4d05-a3dc-8cf341d193bf",
   "metadata": {},
   "outputs": [
    {
     "name": "stdout",
     "output_type": "stream",
     "text": [
      "mpirun -np 8  py88a -p py88a_p0.00 > py88a_p0.00.out.txt\n",
      "Mon Apr  1 10:14:14 2024      3.3 COMPLETE             py88a_p0.00\n",
      "\n"
     ]
    },
    {
     "data": {
      "text/plain": [
       "0"
      ]
     },
     "execution_count": 4,
     "metadata": {},
     "output_type": "execute_result"
    }
   ],
   "source": [
    "reload(PythonCloudy_macro)\n",
    "PythonCloudy_macro.run_one(log_ip=0.0,version='py88a',adata='data/h10_hetop_standard80.dat',ncycles=1,nproc=8)"
   ]
  },
  {
   "cell_type": "code",
   "execution_count": null,
   "id": "48dd865a-d2d0-4cf6-8707-ce2bbd728980",
   "metadata": {},
   "outputs": [],
   "source": []
  }
 ],
 "metadata": {
  "kernelspec": {
   "display_name": "Python [conda env:ksl]",
   "language": "python",
   "name": "conda-env-ksl-py"
  },
  "language_info": {
   "codemirror_mode": {
    "name": "ipython",
    "version": 3
   },
   "file_extension": ".py",
   "mimetype": "text/x-python",
   "name": "python",
   "nbconvert_exporter": "python",
   "pygments_lexer": "ipython3",
   "version": "3.11.5"
  }
 },
 "nbformat": 4,
 "nbformat_minor": 5
}
